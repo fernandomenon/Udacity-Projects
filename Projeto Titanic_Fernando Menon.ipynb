{
 "cells": [
  {
   "cell_type": "markdown",
   "metadata": {},
   "source": [
    "# **PROJETO 2 - TITANIC**\n",
    "\n"
   ]
  },
  {
   "cell_type": "markdown",
   "metadata": {},
   "source": [
    "## 1) definição do projeto e banco de dados\n",
    "\n",
    "O Titanic foi o segundo de uma frota de três navios de luxo da empresa White Star Line. Com 269 m de comprimento e 28 m de largura, o Titanic era o maior navio da época. Sua construção começou em março de 1909 e terminou em maio de 1911. Em 10 de abril de 1912, ele partiu para sua primeira viagem, de Southampton, na Inglaterra, a Nova York, nos EUA. [(SuperInteressante, 2012)](https://super.abril.com.br/mundo-estranho/infografico-naufragio-do-titanic/).\n",
    "\n",
    "A base de dados utilizada no presente projeto tem sua origem no site de competições de dados [Kaggle](https://www.kaggle.com/c/titanic) e refere-se a uma lista com informações de 891 passageiros. As informações disponíveis na internet sobre o Titanic apontam um total de 1316 passageiros e 885 tripulantes, ou seja, a base de dados deste projeto representa apenas 40,48% do total de pessoas embarcadas. \n",
    "\n",
    "Esse projeto tem como finalidade proporcionar a prática de Python e algumas de suas bibliotecas para a análise de dados.\n",
    "\n"
   ]
  },
  {
   "cell_type": "markdown",
   "metadata": {},
   "source": [
    "## 2) Workflow \n",
    "\n",
    "a) Definição das questões      \n",
    "b) Limpeza e teste da base de dados  \n",
    "c) Análises e exploração dos dados  \n",
    "d) Visualização dos dados   \n",
    "e) conclusão  \n",
    "f) referências  "
   ]
  },
  {
   "cell_type": "markdown",
   "metadata": {},
   "source": [
    "## 3) definição das perguntas\n",
    "\n",
    "Este projeto analisará a base de dados por duas óticas. A primeira se refere a uma análise geral do banco de dados e a segunda levará em consideração apenas o perfil dos sobreviventes do naufrágio.\n",
    "\n",
    "As perguntas que se pretende responder são:\n",
    "- Qual o perfil de sobrevivência ao naufrágio?  \n",
    "- Como era distribuição dos passageiros por gênero antes do naufrágio?  \n",
    "- Qual era o perfil de passageiros por classe social embarcada?  \n",
    "- Qual o perfil de idade dos passageiros?  \n",
    "- Qual o porto com maior número de passageiro embarcados?  \n",
    "- Qual a relação gênero x idade dos sobreviventes?  \n",
    "- Homens ou mulheres sobreviram mais ao naufrágio?  \n",
    "- Qual a relação gênero x classe social?   \n",
    "- Qual a idade média dos sobreviventes? A pessoa mais jovem e a mais idosa sobreviveram?   \n",
    "- Qual a relação da idade e classe social?  \n",
    "- A maior quantidade de passageiros que sobreviveram embarcaram em qual porto?  \n",
    "- A maior quantidade de passageiros que sobreviverampertenciam a qual classe?  \n",
    "- De que gênero eram os passageiros que mais sobreviveram?  \n",
    "- Qual o preço das passagens por porto de embarque?  \n",
    " \n",
    "Vamos tentar responder com o seguinte roteiro\n",
    "\n",
    "\n",
    "### Análise geral do banco de dados\n",
    "3.1) Perfil de sobrevivência  \n",
    "3.2) Distribuição de gênero embarcado  \n",
    "3.3) Distribuição da classe social embarcada, de acordo com a classe de passagem  \n",
    "3.4) Perfil de idade dos passageiros  \n",
    "3.5) Perfil de embarque por porto  \n",
    "\n",
    "\n",
    "### Análise referente apenas aos sobreviventes\n",
    "3.6) Cruzamento do gênero com:  \n",
    "    3.6.a) idade  \n",
    "    3.6.b) sobrevivencia  \n",
    "    3.6.c) classe social   \n",
    "      \n",
    "     \n",
    "3.7) Cruzamento da idade com:  \n",
    "    3.7.a) sobrevivencia  \n",
    "    3.7.b) classe social  \n",
    "      \n",
    "3.8) Porto de embarque com:  \n",
    "    3.8.a) sobrevivencia    \n",
    "    3.8.b) classe social   \n",
    "    3.8.c) gênero \n",
    "    3.8.d) preço da passagem (fare)  \n",
    "      \n",
    "\n",
    "\n",
    "\n"
   ]
  },
  {
   "cell_type": "markdown",
   "metadata": {},
   "source": [
    "# Limpeza e teste da base de dados"
   ]
  },
  {
   "cell_type": "code",
   "execution_count": 139,
   "metadata": {},
   "outputs": [
    {
     "data": {
      "text/html": [
       "<div>\n",
       "<style scoped>\n",
       "    .dataframe tbody tr th:only-of-type {\n",
       "        vertical-align: middle;\n",
       "    }\n",
       "\n",
       "    .dataframe tbody tr th {\n",
       "        vertical-align: top;\n",
       "    }\n",
       "\n",
       "    .dataframe thead th {\n",
       "        text-align: right;\n",
       "    }\n",
       "</style>\n",
       "<table border=\"1\" class=\"dataframe\">\n",
       "  <thead>\n",
       "    <tr style=\"text-align: right;\">\n",
       "      <th></th>\n",
       "      <th>PassengerId</th>\n",
       "      <th>Survived</th>\n",
       "      <th>Pclass</th>\n",
       "      <th>Name</th>\n",
       "      <th>Sex</th>\n",
       "      <th>Age</th>\n",
       "      <th>SibSp</th>\n",
       "      <th>Parch</th>\n",
       "      <th>Ticket</th>\n",
       "      <th>Fare</th>\n",
       "      <th>Cabin</th>\n",
       "      <th>Embarked</th>\n",
       "    </tr>\n",
       "  </thead>\n",
       "  <tbody>\n",
       "    <tr>\n",
       "      <th>0</th>\n",
       "      <td>1</td>\n",
       "      <td>0</td>\n",
       "      <td>3</td>\n",
       "      <td>Braund, Mr. Owen Harris</td>\n",
       "      <td>male</td>\n",
       "      <td>22.0</td>\n",
       "      <td>1</td>\n",
       "      <td>0</td>\n",
       "      <td>A/5 21171</td>\n",
       "      <td>7.2500</td>\n",
       "      <td>NaN</td>\n",
       "      <td>S</td>\n",
       "    </tr>\n",
       "    <tr>\n",
       "      <th>1</th>\n",
       "      <td>2</td>\n",
       "      <td>1</td>\n",
       "      <td>1</td>\n",
       "      <td>Cumings, Mrs. John Bradley (Florence Briggs Th...</td>\n",
       "      <td>female</td>\n",
       "      <td>38.0</td>\n",
       "      <td>1</td>\n",
       "      <td>0</td>\n",
       "      <td>PC 17599</td>\n",
       "      <td>71.2833</td>\n",
       "      <td>C85</td>\n",
       "      <td>C</td>\n",
       "    </tr>\n",
       "    <tr>\n",
       "      <th>2</th>\n",
       "      <td>3</td>\n",
       "      <td>1</td>\n",
       "      <td>3</td>\n",
       "      <td>Heikkinen, Miss. Laina</td>\n",
       "      <td>female</td>\n",
       "      <td>26.0</td>\n",
       "      <td>0</td>\n",
       "      <td>0</td>\n",
       "      <td>STON/O2. 3101282</td>\n",
       "      <td>7.9250</td>\n",
       "      <td>NaN</td>\n",
       "      <td>S</td>\n",
       "    </tr>\n",
       "    <tr>\n",
       "      <th>3</th>\n",
       "      <td>4</td>\n",
       "      <td>1</td>\n",
       "      <td>1</td>\n",
       "      <td>Futrelle, Mrs. Jacques Heath (Lily May Peel)</td>\n",
       "      <td>female</td>\n",
       "      <td>35.0</td>\n",
       "      <td>1</td>\n",
       "      <td>0</td>\n",
       "      <td>113803</td>\n",
       "      <td>53.1000</td>\n",
       "      <td>C123</td>\n",
       "      <td>S</td>\n",
       "    </tr>\n",
       "    <tr>\n",
       "      <th>4</th>\n",
       "      <td>5</td>\n",
       "      <td>0</td>\n",
       "      <td>3</td>\n",
       "      <td>Allen, Mr. William Henry</td>\n",
       "      <td>male</td>\n",
       "      <td>35.0</td>\n",
       "      <td>0</td>\n",
       "      <td>0</td>\n",
       "      <td>373450</td>\n",
       "      <td>8.0500</td>\n",
       "      <td>NaN</td>\n",
       "      <td>S</td>\n",
       "    </tr>\n",
       "  </tbody>\n",
       "</table>\n",
       "</div>"
      ],
      "text/plain": [
       "   PassengerId  Survived  Pclass  \\\n",
       "0            1         0       3   \n",
       "1            2         1       1   \n",
       "2            3         1       3   \n",
       "3            4         1       1   \n",
       "4            5         0       3   \n",
       "\n",
       "                                                Name     Sex   Age  SibSp  \\\n",
       "0                            Braund, Mr. Owen Harris    male  22.0      1   \n",
       "1  Cumings, Mrs. John Bradley (Florence Briggs Th...  female  38.0      1   \n",
       "2                             Heikkinen, Miss. Laina  female  26.0      0   \n",
       "3       Futrelle, Mrs. Jacques Heath (Lily May Peel)  female  35.0      1   \n",
       "4                           Allen, Mr. William Henry    male  35.0      0   \n",
       "\n",
       "   Parch            Ticket     Fare Cabin Embarked  \n",
       "0      0         A/5 21171   7.2500   NaN        S  \n",
       "1      0          PC 17599  71.2833   C85        C  \n",
       "2      0  STON/O2. 3101282   7.9250   NaN        S  \n",
       "3      0            113803  53.1000  C123        S  \n",
       "4      0            373450   8.0500   NaN        S  "
      ]
     },
     "execution_count": 139,
     "metadata": {},
     "output_type": "execute_result"
    }
   ],
   "source": [
    "#importando as bibliotecas, abrindo o arquivo e visualizando uma amostra dos dados \n",
    "\n",
    "import pandas as pd\n",
    "import numpy as np\n",
    "import seaborn as sns\n",
    "import matplotlib.pyplot as plt\n",
    "% matplotlib inline\n",
    "\n",
    "df_tit = pd.read_csv('titanic-data-6.csv')\n",
    "df_tit.head()"
   ]
  },
  {
   "cell_type": "markdown",
   "metadata": {},
   "source": [
    "Legenda:  \n",
    "\n",
    "PassengerId = identificação do passageiro na lista  \n",
    "Survived = Sobrevivência (0 = não, 1 = sim)   |\n",
    "Pclass = classe dos passageiros (1 = Primeira classe, 2 = segunda classe, 3 = terceira classe)  \n",
    "Name = Nome dos passageiros  \n",
    "Sex = sexo  \n",
    "Age = idade. As idades abaixo de 1 ano são representadas em fração decimal  \n",
    "Sibsp  = # of siblings / spouses aboard the Titanic    \n",
    "Parch  = # of parents / children aboard the Titanic    \n",
    "Ticket = número do Ticket  \n",
    "Fare  = Taxa da passagem    \n",
    "Cabin = # da cabine    \n",
    "Embarked =  Porto de embarque (C = Cherbourg, Q = Queenstown, S = Southampton)    "
   ]
  },
  {
   "cell_type": "code",
   "execution_count": 140,
   "metadata": {},
   "outputs": [
    {
     "name": "stdout",
     "output_type": "stream",
     "text": [
      "O dataframe do Titanic possui 891 linhas e 12 colunas\n"
     ]
    }
   ],
   "source": [
    "# Avaliando o tamanho do dataframe em linhas e colunas.# Avalia \n",
    "print('O dataframe do Titanic possui {} linhas e {} colunas'.format(df_tit.shape[0], df_tit.shape[1]))"
   ]
  },
  {
   "cell_type": "code",
   "execution_count": 141,
   "metadata": {},
   "outputs": [
    {
     "name": "stdout",
     "output_type": "stream",
     "text": [
      "<class 'pandas.core.frame.DataFrame'>\n",
      "RangeIndex: 891 entries, 0 to 890\n",
      "Data columns (total 12 columns):\n",
      "PassengerId    891 non-null int64\n",
      "Survived       891 non-null int64\n",
      "Pclass         891 non-null int64\n",
      "Name           891 non-null object\n",
      "Sex            891 non-null object\n",
      "Age            714 non-null float64\n",
      "SibSp          891 non-null int64\n",
      "Parch          891 non-null int64\n",
      "Ticket         891 non-null object\n",
      "Fare           891 non-null float64\n",
      "Cabin          204 non-null object\n",
      "Embarked       889 non-null object\n",
      "dtypes: float64(2), int64(5), object(5)\n",
      "memory usage: 66.2+ KB\n",
      "\n",
      "Colunas com valores Faltantes: ['Age' 'Cabin' 'Embarked'] \n",
      "\n",
      "Existem 0 dados duplicados\n"
     ]
    }
   ],
   "source": [
    "# Conhecendo os tipos de dados de cada coluna\n",
    "df_tit.info()\n",
    "\n",
    "# Confirmando os valores faltantes de cada coluna. \n",
    "print('\\nColunas com valores Faltantes: {0} \\n'.format(df_tit.columns[df_tit.isnull().any()].values))\n",
    "\n",
    "# Checar se há duplicação de dados:\n",
    "print('Existem {} dados duplicados'.format(sum(df_tit.duplicated())))"
   ]
  },
  {
   "cell_type": "markdown",
   "metadata": {},
   "source": [
    "# Limpeza\n",
    "\n",
    "Observa-se que a coluna \"Age\", \"Cabin\" e \"Embarked\" possuem valores faltantes.  \n",
    "\n",
    "Ações a serem tomadas:  \n",
    "\n",
    "a) Para a avaliação do perfil de idade iremos iremos tratar os dados apenas no momento da análise, pois iremos preencher os valores NANs através de médias por classes de idade. Obs: Essa atitude será tomada, pois ao preencher com a média geral, criaríamos uma tendência central que poderia não representar a realidade. Adiante será melhor explicado.   \n",
    "\n",
    "b) Para a coluna \"Embarked\", iremos ignorar os valores faltantes, pois são apenas 2 observações, não influenciando significativamente a análise.\n",
    "\n",
    "c) As colunas 'PasssengerId', 'Name','SibSp', 'Parch', 'Ticket','Cabin' serão descartadas pois não serão utilizadas na análise proposta.  "
   ]
  },
  {
   "cell_type": "code",
   "execution_count": 142,
   "metadata": {},
   "outputs": [
    {
     "name": "stdout",
     "output_type": "stream",
     "text": [
      "<class 'pandas.core.frame.DataFrame'>\n",
      "RangeIndex: 891 entries, 0 to 890\n",
      "Data columns (total 6 columns):\n",
      "Survived    891 non-null int64\n",
      "Pclass      891 non-null int64\n",
      "Sex         891 non-null object\n",
      "Age         714 non-null float64\n",
      "Fare        891 non-null float64\n",
      "Embarked    889 non-null object\n",
      "dtypes: float64(2), int64(2), object(2)\n",
      "memory usage: 34.8+ KB\n"
     ]
    }
   ],
   "source": [
    "# Descartando colunas irrelevantes para a análise proposta\n",
    "df_tit.drop(['PassengerId','Name','SibSp', 'Parch', 'Ticket','Cabin'],axis=1, inplace=True)\n",
    "\n",
    "#Criaremos um novo dataframe para essa primeira edição dos dados\n",
    "\n",
    "df_tit_edit = pd.DataFrame(df_tit)\n",
    "\n",
    "df_tit_edit.info()\n"
   ]
  },
  {
   "cell_type": "code",
   "execution_count": 143,
   "metadata": {
    "scrolled": true
   },
   "outputs": [
    {
     "data": {
      "text/html": [
       "<div>\n",
       "<style scoped>\n",
       "    .dataframe tbody tr th:only-of-type {\n",
       "        vertical-align: middle;\n",
       "    }\n",
       "\n",
       "    .dataframe tbody tr th {\n",
       "        vertical-align: top;\n",
       "    }\n",
       "\n",
       "    .dataframe thead th {\n",
       "        text-align: right;\n",
       "    }\n",
       "</style>\n",
       "<table border=\"1\" class=\"dataframe\">\n",
       "  <thead>\n",
       "    <tr style=\"text-align: right;\">\n",
       "      <th></th>\n",
       "      <th>Survived</th>\n",
       "      <th>Pclass</th>\n",
       "      <th>Sex</th>\n",
       "      <th>Age</th>\n",
       "      <th>Fare</th>\n",
       "      <th>Embarked</th>\n",
       "    </tr>\n",
       "  </thead>\n",
       "  <tbody>\n",
       "    <tr>\n",
       "      <th>0</th>\n",
       "      <td>0</td>\n",
       "      <td>3</td>\n",
       "      <td>male</td>\n",
       "      <td>22.0</td>\n",
       "      <td>7.2500</td>\n",
       "      <td>S</td>\n",
       "    </tr>\n",
       "    <tr>\n",
       "      <th>1</th>\n",
       "      <td>1</td>\n",
       "      <td>1</td>\n",
       "      <td>female</td>\n",
       "      <td>38.0</td>\n",
       "      <td>71.2833</td>\n",
       "      <td>C</td>\n",
       "    </tr>\n",
       "    <tr>\n",
       "      <th>2</th>\n",
       "      <td>1</td>\n",
       "      <td>3</td>\n",
       "      <td>female</td>\n",
       "      <td>26.0</td>\n",
       "      <td>7.9250</td>\n",
       "      <td>S</td>\n",
       "    </tr>\n",
       "    <tr>\n",
       "      <th>3</th>\n",
       "      <td>1</td>\n",
       "      <td>1</td>\n",
       "      <td>female</td>\n",
       "      <td>35.0</td>\n",
       "      <td>53.1000</td>\n",
       "      <td>S</td>\n",
       "    </tr>\n",
       "    <tr>\n",
       "      <th>4</th>\n",
       "      <td>0</td>\n",
       "      <td>3</td>\n",
       "      <td>male</td>\n",
       "      <td>35.0</td>\n",
       "      <td>8.0500</td>\n",
       "      <td>S</td>\n",
       "    </tr>\n",
       "  </tbody>\n",
       "</table>\n",
       "</div>"
      ],
      "text/plain": [
       "   Survived  Pclass     Sex   Age     Fare Embarked\n",
       "0         0       3    male  22.0   7.2500        S\n",
       "1         1       1  female  38.0  71.2833        C\n",
       "2         1       3  female  26.0   7.9250        S\n",
       "3         1       1  female  35.0  53.1000        S\n",
       "4         0       3    male  35.0   8.0500        S"
      ]
     },
     "execution_count": 143,
     "metadata": {},
     "output_type": "execute_result"
    }
   ],
   "source": [
    "#Visualizando uma parte da tabela\n",
    "df_tit_edit.head()"
   ]
  },
  {
   "cell_type": "markdown",
   "metadata": {},
   "source": [
    "Após essa limpeza, Iniciaremos as análises, que serão divididas em duas partes principais: \n",
    "Uma análise geral do perfil da base de dados e outra mais aprofundada cruzando informaçóes."
   ]
  },
  {
   "cell_type": "markdown",
   "metadata": {},
   "source": [
    "# Análise geral\n",
    "\n",
    "## 3.1) Qual o perfil de sobrevivência da amostra?\n",
    "Essa análise tem como objetivo identificar o percentual de sobreviventes da amostra\n"
   ]
  },
  {
   "cell_type": "code",
   "execution_count": 144,
   "metadata": {},
   "outputs": [
    {
     "name": "stdout",
     "output_type": "stream",
     "text": [
      "dos 891 passageiros referente à amostra:\n",
      "342 sobreviveram\n",
      "549 morreram\n"
     ]
    },
    {
     "data": {
      "image/png": "[encoded data removed]",
      "text/plain": [
       "<Figure size 432x288 with 1 Axes>"
      ]
     },
     "metadata": {},
     "output_type": "display_data"
    }
   ],
   "source": [
    "#Definindo o total de passageiros\n",
    "df_total_pax = df_tit_edit.count()['Survived']\n",
    "\n",
    "df_surv = df_tit_edit.query('Survived == 1').count()\n",
    "df_surv = df_surv['Survived']\n",
    "\n",
    "#extraindo o número total de passageiros que morreram.\n",
    "df_deads = df_tit_edit.query('Survived == 0').count()\n",
    "df_deads = df_deads['Survived']\n",
    "\n",
    "#compilando as informações\n",
    "print('dos {} passageiros referente à amostra:\\n{} sobreviveram\\n{} morreram'.format(df_total_pax, df_surv, df_deads))\n",
    "\n",
    "# Gráfico da relação entre mortos e sobreviventes. \n",
    "# Gráfico da relação entre mortos e sobreviventes. \n",
    "label = ['Sobreviventes', 'Mortos']\n",
    "qtd_survi_dead = [df_surv, df_deads]\n",
    "explode = (0, 0.1)\n",
    "\n",
    "fig1, ax1 = plt.subplots()\n",
    "ax1.pie(qtd_survi_dead, explode = explode, labels = label, autopct = '%1.1f%%', shadow = True, startangle = 90)\n",
    "ax1.axis('equal')\n",
    "ax1.set_title('Passageiros do Titanic')\n",
    "plt.show()\n",
    "\n",
    "\n"
   ]
  },
  {
   "cell_type": "markdown",
   "metadata": {},
   "source": [
    "## 3.2 Qual a distribuição entre os gêneros embarcados?\n"
   ]
  },
  {
   "cell_type": "code",
   "execution_count": 145,
   "metadata": {},
   "outputs": [
    {
     "name": "stdout",
     "output_type": "stream",
     "text": [
      "Sex\n",
      "female    314\n",
      "male      577\n",
      "Name: Survived, dtype: int64\n",
      "a proporção é de aproximadamente 2 homens para cada mulher embarcada no navio\n"
     ]
    },
    {
     "data": {
      "image/png": "[encoded data removed]",
      "text/plain": [
       "<Figure size 432x288 with 1 Axes>"
      ]
     },
     "metadata": {},
     "output_type": "display_data"
    }
   ],
   "source": [
    "df_total_gender = df_tit_edit.groupby('Sex')['Survived'].count()\n",
    "print(df_total_gender)\n",
    "\n",
    "#proporção h/m\n",
    "gender_proportion = (df_total_gender['male']/df_total_gender['female'])\n",
    "print('a proporção é de aproximadamente', gender_proportion.round().astype(int), 'homens para cada mulher embarcada no navio')\n",
    "\n",
    "# Gráfico da relação quantidade de frequência x gênero. \n",
    "gender = ['Mulheres','Homens']\n",
    "plt.bar(gender, df_total_gender, color = ('olivedrab','darkolivegreen')); #link para a escala de cores nas referências\n",
    "plt.title('Gêneros embarcados \\n')\n",
    "plt.xlabel('\\nGênero')\n",
    "plt.ylabel('Frequência\\n');"
   ]
  },
  {
   "cell_type": "markdown",
   "metadata": {},
   "source": [
    "- Embarcaram 577 homens e 314 mulheres  no Titanic"
   ]
  },
  {
   "cell_type": "markdown",
   "metadata": {},
   "source": [
    "### 3.2.a) qual a relação entre gênero e sobrevivencia?"
   ]
  },
  {
   "cell_type": "code",
   "execution_count": 146,
   "metadata": {},
   "outputs": [
    {
     "name": "stdout",
     "output_type": "stream",
     "text": [
      "Survived  Sex   \n",
      "0         male      468\n",
      "          female     81\n",
      "1         female    233\n",
      "          male      109\n",
      "Name: Sex, dtype: int64\n"
     ]
    },
    {
     "data": {
      "image/png": "[encoded data removed]",
      "text/plain": [
       "<Figure size 432x288 with 1 Axes>"
      ]
     },
     "metadata": {},
     "output_type": "display_data"
    }
   ],
   "source": [
    "# Colocamos os gênero (sex) como index, para contar a quantidade de sobreviventes e mortos por gênero.\n",
    "count_gender = df_tit_edit.groupby('Survived')['Sex'].value_counts()  \n",
    "                                                            \n",
    "print(count_gender)\n",
    "\n",
    "count_gender.plot(kind='bar')\n",
    "plt.plot = count_gender.plot(kind='bar') #Criando o gráfico\n",
    "plt.title('Relação gênero x sobrevivência') #adicionando o título\n",
    "plt.xlabel('Gênero')\n",
    "plt.ylabel('Sobrevivência (frequência)')\n",
    "plt.show()"
   ]
  },
  {
   "cell_type": "markdown",
   "metadata": {},
   "source": [
    "O perfil geral nos mostra que:\n",
    "- existiam mais homens do que mulheres a bordo do navio\n",
    "- 468 homens morreram\n",
    "- 233 mulheres sobreviveram"
   ]
  },
  {
   "cell_type": "markdown",
   "metadata": {},
   "source": [
    "## 3.3 Classe social\n",
    "Definição do perfil da classe social embarcada no navio"
   ]
  },
  {
   "cell_type": "code",
   "execution_count": 147,
   "metadata": {},
   "outputs": [
    {
     "name": "stdout",
     "output_type": "stream",
     "text": [
      "Pclass\n",
      "1    216\n",
      "2    184\n",
      "3    491\n",
      "Name: Survived, dtype: int64\n"
     ]
    },
    {
     "data": {
      "image/png": "[encoded data removed]",
      "text/plain": [
       "<Figure size 432x288 with 1 Axes>"
      ]
     },
     "metadata": {},
     "output_type": "display_data"
    }
   ],
   "source": [
    "#Definição da classe social\n",
    "\n",
    "df_pclass = df_tit_edit.groupby('Pclass')['Survived'].count()\n",
    "print(df_pclass)\n",
    "\n",
    "# Gráfico da relação frequência x classe social. \n",
    "classes = ['Primeira','Segunda', 'Terceira']\n",
    "plt.bar(classes, df_pclass, color = ('olivedrab', 'yellowgreen', 'darkolivegreen')); #link para a escala de cores nas referências\n",
    "plt.title('Distribuição da Classe Social \\n')\n",
    "plt.xlabel('\\nClasse')\n",
    "plt.ylabel('Frequência\\n');\n"
   ]
  },
  {
   "cell_type": "markdown",
   "metadata": {},
   "source": [
    "Existiam: \n",
    "- 216 passageiros na primeira classe\n",
    "- 184 passageiros na segunda classe\n",
    "- 491 na terceira classe"
   ]
  },
  {
   "cell_type": "code",
   "execution_count": 148,
   "metadata": {},
   "outputs": [
    {
     "data": {
      "image/png": "[encoded data removed]",
      "text/plain": [
       "<Figure size 432x288 with 1 Axes>"
      ]
     },
     "metadata": {},
     "output_type": "display_data"
    }
   ],
   "source": [
    "# Colocamos a Classe (Pclass) como index, para contar a quantidade de sobreviventes e mortos e distribuir graficamente\n",
    "df_count_class = pd.DataFrame(df_tit_edit.groupby('Survived')['Pclass'].value_counts()) \n",
    "\n",
    "\n",
    "plt.plot = df_count_class.plot(kind='bar') #Criando o gráfico\n",
    "plt.title('Sobrevivência x Classe') #adicionando o título\n",
    "plt.xlabel('Sobrevivência 0 = morto, 1= vivo, classe')\n",
    "plt.ylabel('Sobrevivência (frequência)')\n",
    "plt.show()"
   ]
  },
  {
   "cell_type": "markdown",
   "metadata": {},
   "source": [
    "A classe social com maior número de passageiros é a terceira classe, representando um total de 55% de passageiros embarcados. O maior percentual de passageiros mortos também é da terceira classe. O maior percentual de sobreviventes é da primeira classe.\n"
   ]
  },
  {
   "cell_type": "markdown",
   "metadata": {},
   "source": [
    "## 3.4 Perfil de idade \n"
   ]
  },
  {
   "cell_type": "markdown",
   "metadata": {},
   "source": [
    "Inicialmente vamos analisar o range de idade e verificar a média geral. Essa média refere-se à base de dados com 744 informações de idade. "
   ]
  },
  {
   "cell_type": "code",
   "execution_count": 149,
   "metadata": {},
   "outputs": [
    {
     "name": "stdout",
     "output_type": "stream",
     "text": [
      "min      0.420000\n",
      "max     80.000000\n",
      "mean    29.699118\n",
      "Name: Age, dtype: float64\n"
     ]
    },
    {
     "data": {
      "image/png": "[encoded data removed]",
      "text/plain": [
       "<Figure size 432x288 with 1 Axes>"
      ]
     },
     "metadata": {},
     "output_type": "display_data"
    }
   ],
   "source": [
    "#definindo idade mínima, máxima e média\n",
    "df_age = df_tit_edit.Age.agg(['min','max','mean'])\n",
    "print(df_age)\n",
    "\n",
    "plt.plot = df_age.plot(kind='bar') #Criando o gráfico\n",
    "plt.title('Perfil de Idade') #adicionando o título\n",
    "plt.xlabel('Idade mínima, máxima e média')\n",
    "plt.ylabel(\"Idade\")\n",
    "plt.show()"
   ]
  },
  {
   "cell_type": "markdown",
   "metadata": {},
   "source": [
    "A menor idade embarcada era um bebê de aproximadamente 5 meses de idade e a maior era um senhor de 80 anos de idade\n",
    "\n",
    "### Abaixo vamos fazer uma breve análise de como fica a distribuição das idades usando .fillna com a média geral das idades para preencher os valores nulos"
   ]
  },
  {
   "cell_type": "code",
   "execution_count": 150,
   "metadata": {},
   "outputs": [
    {
     "name": "stdout",
     "output_type": "stream",
     "text": [
      "<class 'pandas.core.frame.DataFrame'>\n",
      "RangeIndex: 891 entries, 0 to 890\n",
      "Data columns (total 6 columns):\n",
      "Survived    891 non-null int64\n",
      "Pclass      891 non-null int64\n",
      "Sex         891 non-null object\n",
      "Age         891 non-null float64\n",
      "Fare        891 non-null float64\n",
      "Embarked    891 non-null object\n",
      "dtypes: float64(2), int64(2), object(2)\n",
      "memory usage: 34.8+ KB\n"
     ]
    }
   ],
   "source": [
    "#Vamos completar o dataframe com a médias das idades e visualizar as informaçõe\n",
    "tit_new_age = df_tit.fillna(df_tit['Age'].mean())\n",
    "tit_new_age.info() #verificando se os valores foram substituídos"
   ]
  },
  {
   "cell_type": "code",
   "execution_count": 151,
   "metadata": {},
   "outputs": [
    {
     "data": {
      "image/png": "[encoded data removed]",
      "text/plain": [
       "<Figure size 432x288 with 1 Axes>"
      ]
     },
     "metadata": {},
     "output_type": "display_data"
    }
   ],
   "source": [
    "#Visualizando a distribuição das idades através de um histograma\n",
    "fig = plt.figure()\n",
    "ax = fig.add_subplot(111)\n",
    "ax.hist(tit_new_age['Age'], bins = 10, range = (tit_new_age['Age'].min(),tit_new_age['Age'].max()))\n",
    "plt.title('Distribuição das idades')\n",
    "plt.xlabel('Idade')\n",
    "plt.ylabel('Frequência')\n",
    "plt.show()"
   ]
  },
  {
   "cell_type": "markdown",
   "metadata": {},
   "source": [
    "Como imaginado, ao se distribuir 177 valores NANs pela média de idade, geramos uma tendência de distribuição central dos dados, o que pode não representar a realidade."
   ]
  },
  {
   "cell_type": "code",
   "execution_count": 152,
   "metadata": {},
   "outputs": [
    {
     "data": {
      "image/png": "[encoded data removed]",
      "text/plain": [
       "<Figure size 1440x1800 with 1 Axes>"
      ]
     },
     "metadata": {},
     "output_type": "display_data"
    }
   ],
   "source": [
    "# Vamos ver essa distribuição em um gráfico de barras\n",
    "\n",
    "plt.plot = tit_new_age['Age'].value_counts().sort_index().plot(kind='barh', figsize=(20,25)) #Criando o gráfico\n",
    "plt.title('Distribuição das idades') #adicionando o título\n",
    "plt.xlabel('Frequência')\n",
    "plt.ylabel(\"Idade\")\n",
    "plt.show()\n"
   ]
  },
  {
   "cell_type": "markdown",
   "metadata": {},
   "source": [
    "Como previsto, ao substituir os valores NAN pela médias das idades, criamos uma tendência central, que provavelmente não representa a realidade. Para corrigirmos isso, Não usaremos a função tit_new_age nas análises. Essa tendência é gerada porque aproximadamente 20% das observações são NANs.\n",
    "\n",
    "Para uma análise mais representativa da realidade, criaremos classes de idade por frequência, e substituiremos os valores NAN proporcionalmente pelas médias da classe. Dessa forma, vamos dividir em 5 classes, a considerar:  \n",
    "\n",
    "0 = criança  \n",
    "1 = Adolescente/jovens  \n",
    "2 = adultos  \n",
    "3 = meia idade  \n",
    "4 = terceira idade  \n",
    "\n",
    "\n"
   ]
  },
  {
   "cell_type": "code",
   "execution_count": 153,
   "metadata": {
    "scrolled": true
   },
   "outputs": [
    {
     "name": "stdout",
     "output_type": "stream",
     "text": [
      "8.095742574257427\n",
      "24.540462427745666\n",
      "39.327127659574465\n",
      "55.07971014492754\n",
      "69.16666666666667\n"
     ]
    }
   ],
   "source": [
    "#Como não usaremos tit_new_age, vamos criar novo datadaframe usando fillna. \n",
    "\n",
    "#criando novo DF e ordenando os dados de idade por ordem crescente\n",
    "df_tit_age = pd.DataFrame(df_tit.sort_values(['Age']))\n",
    "\n",
    "#aqui fizemos essa ordenação por idade para deixar todos os valores NAN no final da tabela.\n",
    "\n",
    "df_tit_age.copy()\n",
    "df_tit_age.tail() #verificando se as idades NAN estão nas ultimas posições \n",
    "\n",
    "#vamos calcular a média das classes usando iloc. Essa média será usada para a distribuição das idades\n",
    "#após ordenar os dados por idade, \n",
    "\n",
    "df_classe0 = df_tit_age.iloc[:101, 3].mean() #posição dos dados referentes a classe0 de idade\n",
    "df_classe1 = df_tit_age.iloc[101:447, 3].mean() #posição dos dados referentes a classe1 de idade\n",
    "df_classe2 = df_tit_age.iloc[447:635, 3].mean() #posição dos dados referentes a classe2 de idade\n",
    "df_classe3 = df_tit_age.iloc[635:704, 3].mean() #posição dos dados referentes a classe3 de idade\n",
    "df_classe4 = df_tit_age.iloc[704:713, 3].mean() #posição dos dados referentes a classe4 de idade\n",
    "\n",
    "print(df_classe0)\n",
    "print(df_classe1)\n",
    "print(df_classe2)\n",
    "print(df_classe3)\n",
    "print(df_classe4)\n",
    "\n"
   ]
  },
  {
   "cell_type": "markdown",
   "metadata": {},
   "source": [
    "Na tabela abaixo observamos a distribuição da idade média por classe, a frequência que representa dentro da classe (em percentual) e a quantidade de valores NANs que precisarão ser substituídos para completar o dataframe em cada classe.\n",
    "\n",
    "|  classe de idade | categoria  | idade média  | df_tit   | Substituir NAN  | \n",
    "|---|---|---|---|---|\n",
    "|0   | criança  |  8.095742574257427 | 14%  | 25 |\n",
    "| 1  | adolescente/jovens  | 24.540462427745666  |48%   |  85 |\n",
    "|  2 | adultos  | 39.327127659574465  | 26%  | 46 |\n",
    "|  3 | meia idade  | 55.07971014492754  |10%   |  18 |\n",
    "|  4 | terceira idade  |69.16666666666667  | 2%  | 3  |\n",
    "\n",
    "Obs1: As médias de idade foram calculadas com base nas 744 observações de idade, bem como os percentuais  \n",
    "Obs2: a coluna \"Substituir NAN\" foi calculada usando proporção das classes para chegarmos ao total de 891 passageiros  \n"
   ]
  },
  {
   "cell_type": "code",
   "execution_count": 154,
   "metadata": {},
   "outputs": [],
   "source": [
    "#ressetando o index para que possamos usar corretamente a função LOC\n",
    "#como anteriormente ordenamos o DF por idade, o indice original ficou fora de ordem. Precisaremos nesse caso ressetar o índice para que possamos\n",
    "#usar corretamente a chamada .loc mais adiante\n",
    "df_tit_clean = df_tit_age.reset_index()\n"
   ]
  },
  {
   "cell_type": "code",
   "execution_count": 155,
   "metadata": {},
   "outputs": [],
   "source": [
    "#encontrando as posições NANS que queremos substituir pelas médias das classes de idade\n",
    "\n",
    "df_tit_clean.loc[714:738] = df_tit_clean.loc[714:738].fillna(8.095742574257427)\n",
    "df_tit_clean.loc[738:823] = df_tit_clean.loc[738:823].fillna(24.540462427745666)\n",
    "df_tit_clean.loc[823:869] = df_tit_clean.loc[823:869].fillna(39.327127659574465)\n",
    "df_tit_clean.loc[869:887] = df_tit_clean.loc[869:887].fillna(55.07971014492754)\n",
    "df_tit_clean.loc[887:] = df_tit_clean.loc[887:].fillna(69.16666666666667\n",
    ");"
   ]
  },
  {
   "cell_type": "code",
   "execution_count": 156,
   "metadata": {},
   "outputs": [
    {
     "data": {
      "text/html": [
       "<div>\n",
       "<style scoped>\n",
       "    .dataframe tbody tr th:only-of-type {\n",
       "        vertical-align: middle;\n",
       "    }\n",
       "\n",
       "    .dataframe tbody tr th {\n",
       "        vertical-align: top;\n",
       "    }\n",
       "\n",
       "    .dataframe thead th {\n",
       "        text-align: right;\n",
       "    }\n",
       "</style>\n",
       "<table border=\"1\" class=\"dataframe\">\n",
       "  <thead>\n",
       "    <tr style=\"text-align: right;\">\n",
       "      <th></th>\n",
       "      <th>index</th>\n",
       "      <th>Survived</th>\n",
       "      <th>Pclass</th>\n",
       "      <th>Sex</th>\n",
       "      <th>Age</th>\n",
       "      <th>Fare</th>\n",
       "      <th>Embarked</th>\n",
       "    </tr>\n",
       "  </thead>\n",
       "  <tbody>\n",
       "    <tr>\n",
       "      <th>713</th>\n",
       "      <td>630</td>\n",
       "      <td>1</td>\n",
       "      <td>1</td>\n",
       "      <td>male</td>\n",
       "      <td>80.000000</td>\n",
       "      <td>30.0000</td>\n",
       "      <td>S</td>\n",
       "    </tr>\n",
       "    <tr>\n",
       "      <th>714</th>\n",
       "      <td>5</td>\n",
       "      <td>0</td>\n",
       "      <td>3</td>\n",
       "      <td>male</td>\n",
       "      <td>8.095743</td>\n",
       "      <td>8.4583</td>\n",
       "      <td>Q</td>\n",
       "    </tr>\n",
       "    <tr>\n",
       "      <th>715</th>\n",
       "      <td>17</td>\n",
       "      <td>1</td>\n",
       "      <td>2</td>\n",
       "      <td>male</td>\n",
       "      <td>8.095743</td>\n",
       "      <td>13.0000</td>\n",
       "      <td>S</td>\n",
       "    </tr>\n",
       "    <tr>\n",
       "      <th>716</th>\n",
       "      <td>19</td>\n",
       "      <td>1</td>\n",
       "      <td>3</td>\n",
       "      <td>female</td>\n",
       "      <td>8.095743</td>\n",
       "      <td>7.2250</td>\n",
       "      <td>C</td>\n",
       "    </tr>\n",
       "    <tr>\n",
       "      <th>717</th>\n",
       "      <td>26</td>\n",
       "      <td>0</td>\n",
       "      <td>3</td>\n",
       "      <td>male</td>\n",
       "      <td>8.095743</td>\n",
       "      <td>7.2250</td>\n",
       "      <td>C</td>\n",
       "    </tr>\n",
       "    <tr>\n",
       "      <th>718</th>\n",
       "      <td>28</td>\n",
       "      <td>1</td>\n",
       "      <td>3</td>\n",
       "      <td>female</td>\n",
       "      <td>8.095743</td>\n",
       "      <td>7.8792</td>\n",
       "      <td>Q</td>\n",
       "    </tr>\n",
       "    <tr>\n",
       "      <th>719</th>\n",
       "      <td>29</td>\n",
       "      <td>0</td>\n",
       "      <td>3</td>\n",
       "      <td>male</td>\n",
       "      <td>8.095743</td>\n",
       "      <td>7.8958</td>\n",
       "      <td>S</td>\n",
       "    </tr>\n",
       "    <tr>\n",
       "      <th>720</th>\n",
       "      <td>31</td>\n",
       "      <td>1</td>\n",
       "      <td>1</td>\n",
       "      <td>female</td>\n",
       "      <td>8.095743</td>\n",
       "      <td>146.5208</td>\n",
       "      <td>C</td>\n",
       "    </tr>\n",
       "  </tbody>\n",
       "</table>\n",
       "</div>"
      ],
      "text/plain": [
       "     index  Survived  Pclass     Sex        Age      Fare Embarked\n",
       "713    630         1       1    male  80.000000   30.0000        S\n",
       "714      5         0       3    male   8.095743    8.4583        Q\n",
       "715     17         1       2    male   8.095743   13.0000        S\n",
       "716     19         1       3  female   8.095743    7.2250        C\n",
       "717     26         0       3    male   8.095743    7.2250        C\n",
       "718     28         1       3  female   8.095743    7.8792        Q\n",
       "719     29         0       3    male   8.095743    7.8958        S\n",
       "720     31         1       1  female   8.095743  146.5208        C"
      ]
     },
     "execution_count": 156,
     "metadata": {},
     "output_type": "execute_result"
    }
   ],
   "source": [
    "#criando um novo dataframe para garantir que os valores NAN foram substituídos\n",
    "df_tit_clean = pd.DataFrame(df_tit_clean)\n",
    "\n",
    "df_tit_clean.loc[713:720] #visualizar uma parte da tabela para ver se a substituição está correta"
   ]
  },
  {
   "cell_type": "code",
   "execution_count": 157,
   "metadata": {},
   "outputs": [
    {
     "name": "stdout",
     "output_type": "stream",
     "text": [
      "<class 'pandas.core.frame.DataFrame'>\n",
      "RangeIndex: 891 entries, 0 to 890\n",
      "Data columns (total 7 columns):\n",
      "index       891 non-null int64\n",
      "Survived    891 non-null int64\n",
      "Pclass      891 non-null int64\n",
      "Sex         891 non-null object\n",
      "Age         891 non-null float64\n",
      "Fare        891 non-null float64\n",
      "Embarked    889 non-null object\n",
      "dtypes: float64(2), int64(3), object(2)\n",
      "memory usage: 41.8+ KB\n"
     ]
    }
   ],
   "source": [
    "df_tit_clean.info() #as substituições foram feitas?\n"
   ]
  },
  {
   "cell_type": "markdown",
   "metadata": {},
   "source": [
    "Vamos gerar um histograma e um gráfico de barras horizontal para garantir que as inserções das médias estão corretas."
   ]
  },
  {
   "cell_type": "code",
   "execution_count": 158,
   "metadata": {},
   "outputs": [
    {
     "data": {
      "image/png": "[encoded data removed]",
      "text/plain": [
       "<Figure size 432x288 with 1 Axes>"
      ]
     },
     "metadata": {},
     "output_type": "display_data"
    }
   ],
   "source": [
    "#visualizando histograma com a nova distribuição das frequências por classes de idade\n",
    "\n",
    "plt.plot = df_tit_clean['Age'].plot(kind='hist', bins = 7) #Criando o gráfico\n",
    "plt.title('Histograma de idade') #adicionando o título\n",
    "plt.xlabel('Idade')\n",
    "plt.ylabel('Frequência')\n",
    "plt.show()"
   ]
  },
  {
   "cell_type": "markdown",
   "metadata": {},
   "source": [
    "Distribuição das idades em um histograma. Observa-se que a faixa com maior número de passageiros é entre 25 e 35 anos de idade"
   ]
  },
  {
   "cell_type": "code",
   "execution_count": 159,
   "metadata": {
    "scrolled": true
   },
   "outputs": [
    {
     "data": {
      "image/png": "[encoded data removed]",
      "text/plain": [
       "<Figure size 1440x1800 with 1 Axes>"
      ]
     },
     "metadata": {},
     "output_type": "display_data"
    }
   ],
   "source": [
    "#plot idade com médias por classe\n",
    "df_tit_clean['Age'].value_counts().sort_index().plot(kind='barh', figsize=(20,25))\n",
    "\n",
    "plt.plot = df_tit_clean['Age'].value_counts().sort_index().plot(kind='barh', figsize=(20,25)) #Criando o gráfico\n",
    "plt.title('Distribuição das idades') #adicionando o título\n",
    "plt.xlabel('Frequência')\n",
    "plt.ylabel(\"Idade\")\n",
    "plt.show()"
   ]
  },
  {
   "cell_type": "markdown",
   "metadata": {},
   "source": [
    "A inserção das médias das classes de idade nos proporcionou manter a tendência de distribuição da idade semelhante ao dataframe original. Dessa forma nos possibilita uma análise mais assertiva ao se cruzar informações de idade.\n",
    "\n",
    "Abaixo veremos como ficou a nova distribuição de frequência por classe de idade"
   ]
  },
  {
   "cell_type": "code",
   "execution_count": 160,
   "metadata": {},
   "outputs": [
    {
     "name": "stdout",
     "output_type": "stream",
     "text": [
      "             Classe  Survived\n",
      "0    (0.34, 16.336]       125\n",
      "1  (16.336, 32.252]       431\n",
      "2  (32.252, 48.168]       234\n",
      "3  (48.168, 64.084]        87\n",
      "4    (64.084, 80.0]        14\n"
     ]
    }
   ],
   "source": [
    "#criar agrupamento por classe de frequencia\n",
    "\n",
    "df_tit_clean['Classe'] = pd.cut(df_tit_clean['Age'], 5)\n",
    "df_tit_clean[['Classe', 'Survived']].groupby(['Classe'], as_index=False).count().sort_values(by='Classe', ascending=True)\n",
    "print(df_tit_clean[['Classe', 'Survived']].groupby(['Classe'], as_index=False).count().sort_values(by='Classe', ascending=True))\n",
    "\n",
    "\n"
   ]
  },
  {
   "cell_type": "markdown",
   "metadata": {},
   "source": [
    "\n",
    "|  classe de idade | categoria  | idade média  | Freq. Abs. antes  | Freq. Abs. Depois  | \n",
    "|---|---|---|---|---|\n",
    "|0   | criança  |  8.095742574257427 | 100  | 125 |\n",
    "| 1  | adolescente/jovens  | 24.540462427745666  |346   |  431 |\n",
    "|  2 | adultos  | 39.327127659574465  | 188  | 234 |\n",
    "|  3 | meia idade  | 55.07971014492754  |69   |  87 |\n",
    "|  4 | terceira idade  |69.16666666666667  | 11  | 14  |\n",
    "|  Total|| | **744**  | **891**  |"
   ]
  },
  {
   "cell_type": "markdown",
   "metadata": {},
   "source": [
    "### Agora que temos o dataframe completo com idades, vamos fazer algumas análises do perfil geral correlacionando com idade\n",
    "\n"
   ]
  },
  {
   "cell_type": "code",
   "execution_count": 161,
   "metadata": {},
   "outputs": [
    {
     "data": {
      "image/png": "[encoded data removed]",
      "text/plain": [
       "<Figure size 432x288 with 1 Axes>"
      ]
     },
     "metadata": {},
     "output_type": "display_data"
    }
   ],
   "source": [
    "#Qual a distribuição de gênero por classe de idade?\n",
    "age_sex = df_tit_clean.groupby('Sex')['Classe'].value_counts()  \n",
    "                                                            \n",
    "plt.plot = age_sex.plot(kind='bar') #Criando o gráfico\n",
    "plt.title('Frequência x Classe de idade ') #adicionando o título\n",
    "plt.xlabel('Gênero, classe de idade')\n",
    "plt.ylabel(\"Frequência\")\n",
    "plt.show()"
   ]
  },
  {
   "cell_type": "markdown",
   "metadata": {},
   "source": [
    "- Para ambos os gêneros embarcados no navio, a classe de idade que possui o maior número de passageiros é de 16 a 32 anos.\n",
    "- o menor número de passageiros eram idosos (faixa de 64 a 80 anos) em ambos os sexos"
   ]
  },
  {
   "cell_type": "code",
   "execution_count": 162,
   "metadata": {},
   "outputs": [
    {
     "data": {
      "text/html": [
       "<div>\n",
       "<style scoped>\n",
       "    .dataframe tbody tr th:only-of-type {\n",
       "        vertical-align: middle;\n",
       "    }\n",
       "\n",
       "    .dataframe tbody tr th {\n",
       "        vertical-align: top;\n",
       "    }\n",
       "\n",
       "    .dataframe thead th {\n",
       "        text-align: right;\n",
       "    }\n",
       "</style>\n",
       "<table border=\"1\" class=\"dataframe\">\n",
       "  <thead>\n",
       "    <tr style=\"text-align: right;\">\n",
       "      <th></th>\n",
       "      <th>Embarked</th>\n",
       "      <th>C</th>\n",
       "      <th>Q</th>\n",
       "      <th>S</th>\n",
       "    </tr>\n",
       "    <tr>\n",
       "      <th>Sex</th>\n",
       "      <th>Pclass</th>\n",
       "      <th></th>\n",
       "      <th></th>\n",
       "      <th></th>\n",
       "    </tr>\n",
       "  </thead>\n",
       "  <tbody>\n",
       "    <tr>\n",
       "      <th rowspan=\"3\" valign=\"top\">female</th>\n",
       "      <th>1</th>\n",
       "      <td>60.000000</td>\n",
       "      <td>33.000000</td>\n",
       "      <td>63.000000</td>\n",
       "    </tr>\n",
       "    <tr>\n",
       "      <th>2</th>\n",
       "      <td>28.000000</td>\n",
       "      <td>30.000000</td>\n",
       "      <td>57.000000</td>\n",
       "    </tr>\n",
       "    <tr>\n",
       "      <th>3</th>\n",
       "      <td>45.000000</td>\n",
       "      <td>39.327128</td>\n",
       "      <td>69.166667</td>\n",
       "    </tr>\n",
       "    <tr>\n",
       "      <th rowspan=\"3\" valign=\"top\">male</th>\n",
       "      <th>1</th>\n",
       "      <td>71.000000</td>\n",
       "      <td>44.000000</td>\n",
       "      <td>80.000000</td>\n",
       "    </tr>\n",
       "    <tr>\n",
       "      <th>2</th>\n",
       "      <td>39.327128</td>\n",
       "      <td>57.000000</td>\n",
       "      <td>70.000000</td>\n",
       "    </tr>\n",
       "    <tr>\n",
       "      <th>3</th>\n",
       "      <td>55.079710</td>\n",
       "      <td>70.500000</td>\n",
       "      <td>74.000000</td>\n",
       "    </tr>\n",
       "  </tbody>\n",
       "</table>\n",
       "</div>"
      ],
      "text/plain": [
       "Embarked               C          Q          S\n",
       "Sex    Pclass                                 \n",
       "female 1       60.000000  33.000000  63.000000\n",
       "       2       28.000000  30.000000  57.000000\n",
       "       3       45.000000  39.327128  69.166667\n",
       "male   1       71.000000  44.000000  80.000000\n",
       "       2       39.327128  57.000000  70.000000\n",
       "       3       55.079710  70.500000  74.000000"
      ]
     },
     "execution_count": 162,
     "metadata": {},
     "output_type": "execute_result"
    }
   ],
   "source": [
    "#Visualizando as idades máximas do passageiros embarcados no Titanic, separando por sexo, classe e porto de embarque\n",
    "table_age_sex = pd.pivot_table(df_tit_clean, values='Age', index=['Sex', 'Pclass'],columns=['Embarked'], aggfunc=np.max)\n",
    "table_age_sex"
   ]
  },
  {
   "cell_type": "markdown",
   "metadata": {},
   "source": [
    "Considerando o sexo masculino, o passageiro de maior idade era um homem de 80 anos de idade e estava alocado na primeira classe do navio tendo embarcado em Southamton. Para o sexo feminino a idade era 69 anos, estava na primeira classe e também embarcou em Southamton."
   ]
  },
  {
   "cell_type": "code",
   "execution_count": 163,
   "metadata": {},
   "outputs": [
    {
     "data": {
      "text/html": [
       "<div>\n",
       "<style scoped>\n",
       "    .dataframe tbody tr th:only-of-type {\n",
       "        vertical-align: middle;\n",
       "    }\n",
       "\n",
       "    .dataframe tbody tr th {\n",
       "        vertical-align: top;\n",
       "    }\n",
       "\n",
       "    .dataframe thead th {\n",
       "        text-align: right;\n",
       "    }\n",
       "</style>\n",
       "<table border=\"1\" class=\"dataframe\">\n",
       "  <thead>\n",
       "    <tr style=\"text-align: right;\">\n",
       "      <th></th>\n",
       "      <th>Embarked</th>\n",
       "      <th>C</th>\n",
       "      <th>Q</th>\n",
       "      <th>S</th>\n",
       "    </tr>\n",
       "    <tr>\n",
       "      <th>Sex</th>\n",
       "      <th>Pclass</th>\n",
       "      <th></th>\n",
       "      <th></th>\n",
       "      <th></th>\n",
       "    </tr>\n",
       "  </thead>\n",
       "  <tbody>\n",
       "    <tr>\n",
       "      <th rowspan=\"3\" valign=\"top\">female</th>\n",
       "      <th>1</th>\n",
       "      <td>8.095743</td>\n",
       "      <td>33.000000</td>\n",
       "      <td>2.00</td>\n",
       "    </tr>\n",
       "    <tr>\n",
       "      <th>2</th>\n",
       "      <td>3.000000</td>\n",
       "      <td>24.540462</td>\n",
       "      <td>2.00</td>\n",
       "    </tr>\n",
       "    <tr>\n",
       "      <th>3</th>\n",
       "      <td>0.750000</td>\n",
       "      <td>8.095743</td>\n",
       "      <td>1.00</td>\n",
       "    </tr>\n",
       "    <tr>\n",
       "      <th rowspan=\"3\" valign=\"top\">male</th>\n",
       "      <th>1</th>\n",
       "      <td>8.095743</td>\n",
       "      <td>44.000000</td>\n",
       "      <td>0.92</td>\n",
       "    </tr>\n",
       "    <tr>\n",
       "      <th>2</th>\n",
       "      <td>1.000000</td>\n",
       "      <td>57.000000</td>\n",
       "      <td>0.67</td>\n",
       "    </tr>\n",
       "    <tr>\n",
       "      <th>3</th>\n",
       "      <td>0.420000</td>\n",
       "      <td>2.000000</td>\n",
       "      <td>1.00</td>\n",
       "    </tr>\n",
       "  </tbody>\n",
       "</table>\n",
       "</div>"
      ],
      "text/plain": [
       "Embarked              C          Q     S\n",
       "Sex    Pclass                           \n",
       "female 1       8.095743  33.000000  2.00\n",
       "       2       3.000000  24.540462  2.00\n",
       "       3       0.750000   8.095743  1.00\n",
       "male   1       8.095743  44.000000  0.92\n",
       "       2       1.000000  57.000000  0.67\n",
       "       3       0.420000   2.000000  1.00"
      ]
     },
     "execution_count": 163,
     "metadata": {},
     "output_type": "execute_result"
    }
   ],
   "source": [
    "#Visualizando as idades mínimas do passageiros embarcados no Titanic, separando por sexo, classe e porto de embarque\n",
    "table_age_sex = pd.pivot_table(df_tit_clean, values='Age', index=['Sex', 'Pclass'],columns=['Embarked'], aggfunc=np.min)\n",
    "table_age_sex"
   ]
  },
  {
   "cell_type": "markdown",
   "metadata": {},
   "source": [
    "Com essa tabela podemos verificar que o bebê de aproximadamente 5 meses de idade (0,42 anos) embarcou com sua família no porto de Cherbourg e era do sexo masculino. Poucas crianças embarcaram no porto de Queenstown, sendo que das que embarcaram nesse porto, nenhuma pertencia à primeira e segunda classe."
   ]
  },
  {
   "cell_type": "markdown",
   "metadata": {},
   "source": [
    "# 3.5 Perfil por porto de embarque"
   ]
  },
  {
   "cell_type": "code",
   "execution_count": 164,
   "metadata": {},
   "outputs": [
    {
     "name": "stdout",
     "output_type": "stream",
     "text": [
      "A quantidade de passageiros embarcados nos portos são:\n",
      "» Cherbourg 168 pessoas \n",
      "» Queenstown 77 pessoas \n",
      "» Southampton 644 pessoas \n",
      "» Total 889 pessoas \n"
     ]
    },
    {
     "data": {
      "image/png": "[encoded data removed]",
      "text/plain": [
       "<Figure size 432x288 with 1 Axes>"
      ]
     },
     "metadata": {},
     "output_type": "display_data"
    }
   ],
   "source": [
    "#Isolando a coluna Embarque (embarked) para realizar a separação e contagem dos portos. \n",
    "df_embarked = df_tit_clean['Embarked']\n",
    "\n",
    "# Somando o total de passageiros embarcados em todos os portos\n",
    "total_embarked = df_embarked.value_counts().sum()\n",
    "\n",
    "# Variáveis do total de contagem de cada porto.\n",
    "total_pass_s = 0\n",
    "total_pass_c = 0\n",
    "total_pass_q = 0\n",
    "\n",
    "\n",
    "# Loop para separação e contagem de passageiros por porto.  \n",
    "for i in df_embarked:\n",
    "    if i == 'S':\n",
    "        total_pass_s += 1 \n",
    "    elif i == 'C':\n",
    "        total_pass_c += 1\n",
    "    elif i == 'Q':\n",
    "        total_pass_q += 1\n",
    "\n",
    "# Exibir a quantidade de passageiro por porto.  \n",
    "print('A quantidade de passageiros embarcados nos portos são:\\n» Cherbourg {} pessoas \\n» Queenstown {} pessoas \\n» Southampton {} pessoas \\n» Total {} pessoas '\n",
    "      .format(total_pass_c, total_pass_q, total_pass_s, total_embarked))\n",
    "\n",
    "# Gráfico da relação quantidade de passageiro x porto de embarque. \n",
    "qtd_embarked = [total_pass_c/total_embarked*100, total_pass_q/total_embarked*100, total_pass_s/total_embarked*100]\n",
    "ports = ['Cherbourg','Queenstown','Southampton']\n",
    "plt.bar(ports, qtd_embarked);\n",
    "plt.title('Porto de embarque \\n')\n",
    "plt.xlabel('\\nPorto de embarque')\n",
    "plt.ylabel('% de passageiros\\n');\n",
    "\n",
    "\n",
    "\n",
    "\n"
   ]
  },
  {
   "cell_type": "markdown",
   "metadata": {},
   "source": [
    "Com base na análise acima, fica evidente que o porto de Southamton foi o responsável pelo maior número de embarque dos passageiros da base de dados. Isso acontece provavelmente em razão de ser o porto de partida do Titanic. Na sequência o porto responsável pelo segundo maior número de embarques é Cherbourg, que coincide com a primeira parada do navio e o porto com menor embarques é o de Queenstown, aonde o Titanic ancorou pela segunda e última vez.\n",
    "\n",
    "Partida: Southampton, 644 passageiros  \n",
    "1a parada: Cherbourg, 168 passageiros  \n",
    "2a parada: Queenstown, 889 passageiros    \n",
    "\n",
    "*lembrando que aqui foram desprezadas informações referentes a dois passageiros que não possuíam essa informação na base de dados.\n",
    "\n",
    "PS: Outra maneira de visualizar essa informação seria assim: \n",
    "```\n",
    "#Analisando o perfil geral dos passageiros por porto de embarque\n",
    "df_embark = df_tit_edit.groupby('Embarked')['Survived'].count()\n",
    "print(df_embark)\n",
    "\n",
    "#Gráfico da relação quantidade de passageiro x porto de embarque. \n",
    "ports = ['Cherbourg','Queenstown','Southampton']\n",
    "plt.bar(ports, df_embark, color = ('olivedrab','yellowgreen','darkolivegreen')); #link para a escala de cores nas referências\n",
    "plt.title('Passageiros embarcados \\n')\n",
    "plt.xlabel('\\nPorto de embarque')\n",
    "plt.ylabel('nº de passageiros\\n');\n",
    "```"
   ]
  },
  {
   "cell_type": "code",
   "execution_count": 165,
   "metadata": {},
   "outputs": [
    {
     "data": {
      "text/html": [
       "<div>\n",
       "<style scoped>\n",
       "    .dataframe tbody tr th:only-of-type {\n",
       "        vertical-align: middle;\n",
       "    }\n",
       "\n",
       "    .dataframe tbody tr th {\n",
       "        vertical-align: top;\n",
       "    }\n",
       "\n",
       "    .dataframe thead th {\n",
       "        text-align: right;\n",
       "    }\n",
       "</style>\n",
       "<table border=\"1\" class=\"dataframe\">\n",
       "  <thead>\n",
       "    <tr style=\"text-align: right;\">\n",
       "      <th></th>\n",
       "      <th>Embarked</th>\n",
       "      <th>C</th>\n",
       "      <th>Q</th>\n",
       "      <th>S</th>\n",
       "    </tr>\n",
       "    <tr>\n",
       "      <th>Sex</th>\n",
       "      <th>Survived</th>\n",
       "      <th></th>\n",
       "      <th></th>\n",
       "      <th></th>\n",
       "    </tr>\n",
       "  </thead>\n",
       "  <tbody>\n",
       "    <tr>\n",
       "      <th rowspan=\"2\" valign=\"top\">female</th>\n",
       "      <th>0</th>\n",
       "      <td>9</td>\n",
       "      <td>9</td>\n",
       "      <td>63</td>\n",
       "    </tr>\n",
       "    <tr>\n",
       "      <th>1</th>\n",
       "      <td>64</td>\n",
       "      <td>27</td>\n",
       "      <td>140</td>\n",
       "    </tr>\n",
       "    <tr>\n",
       "      <th rowspan=\"2\" valign=\"top\">male</th>\n",
       "      <th>0</th>\n",
       "      <td>66</td>\n",
       "      <td>38</td>\n",
       "      <td>364</td>\n",
       "    </tr>\n",
       "    <tr>\n",
       "      <th>1</th>\n",
       "      <td>29</td>\n",
       "      <td>3</td>\n",
       "      <td>77</td>\n",
       "    </tr>\n",
       "  </tbody>\n",
       "</table>\n",
       "</div>"
      ],
      "text/plain": [
       "Embarked          C   Q    S\n",
       "Sex    Survived             \n",
       "female 0          9   9   63\n",
       "       1         64  27  140\n",
       "male   0         66  38  364\n",
       "       1         29   3   77"
      ]
     },
     "execution_count": 165,
     "metadata": {},
     "output_type": "execute_result"
    }
   ],
   "source": [
    "#Visualizando as frequência de passageiros embarcados no Titanic, separando por sexo, sobrevivência e porto de embarque\n",
    "table_emb = pd.pivot_table(df_tit_clean, values='Pclass', index=['Sex', 'Survived'],columns=['Embarked'], aggfunc=np.size)\n",
    "table_emb"
   ]
  },
  {
   "cell_type": "markdown",
   "metadata": {},
   "source": [
    "Nessa tabela observa-se a distribuição dos passageiros por porto de embarque, agrupados por gênero e sobrevivência. O maior número de passageiros mortos (364 pessoas) embarcaram no porto de Southamton e eram do sexo masculino"
   ]
  },
  {
   "cell_type": "code",
   "execution_count": 166,
   "metadata": {},
   "outputs": [
    {
     "data": {
      "image/png": "[encoded data removed]",
      "text/plain": [
       "<Figure size 432x288 with 1 Axes>"
      ]
     },
     "metadata": {},
     "output_type": "display_data"
    }
   ],
   "source": [
    "#relação entre sexo e sobrevivência por porto de embarque\n",
    "sns.set()  # usando Seaborn \n",
    "df_tit_clean.pivot_table(index='Embarked', columns=('Sex', 'Survived'), aggfunc='size').plot(kind='bar')\n",
    "plt.title('Nº de passageiros x Porto de embarque ')\n",
    "plt.xlabel('Porto de Embarque');\n",
    "plt.ylabel('Nº passageiros');\n",
    "\n"
   ]
  },
  {
   "cell_type": "markdown",
   "metadata": {},
   "source": [
    "Pode-se verificar que o maior número de mortes são referentes a homens que embarcaram no porto de Southamton e que o maior número de sobreviventes mulheres também embarcou naquele porto.\n",
    "\n",
    "- A taxa de mortalidade de homens é mais alta do que a de mulheres nos três portos de embarque.\n",
    "- A taxa de sobrevivência de mulheres é mais alta do que a de homens nos três portos de embarque\n"
   ]
  },
  {
   "cell_type": "code",
   "execution_count": 167,
   "metadata": {},
   "outputs": [
    {
     "data": {
      "image/png": "[encoded data removed]",
      "text/plain": [
       "<Figure size 432x288 with 1 Axes>"
      ]
     },
     "metadata": {},
     "output_type": "display_data"
    }
   ],
   "source": [
    "#visualizando a relação entre sobrevivência e porto de embarque\n",
    "sns.set()  # usando Seaborn \n",
    "df_tit_clean.pivot_table(index='Embarked', columns='Survived', aggfunc='size').plot(kind='bar')\n",
    "plt.title('Sobrevivência x Porto de Embarque')\n",
    "plt.xlabel('Porto de Embarque');\n",
    "plt.ylabel('Nº passageiros');"
   ]
  },
  {
   "cell_type": "markdown",
   "metadata": {},
   "source": [
    "O maior número absoluto de sobreviventes foi de passageiros embarcados no porto de Southamton."
   ]
  },
  {
   "cell_type": "code",
   "execution_count": 168,
   "metadata": {},
   "outputs": [
    {
     "data": {
      "image/png": "[encoded data removed]",
      "text/plain": [
       "<Figure size 432x288 with 1 Axes>"
      ]
     },
     "metadata": {},
     "output_type": "display_data"
    }
   ],
   "source": [
    "#visualizando sobrevivência por gênero e porto de embarque\n",
    "sns.set()  # usando Seaborn \n",
    "df_tit_clean.pivot_table(index='Embarked', columns='Sex', aggfunc='size').plot(kind='bar')\n",
    "plt.title('Gênero x Porto de Embarque')\n",
    "plt.xlabel('Porto de Embarque');\n",
    "plt.ylabel('Nº passageiros');"
   ]
  },
  {
   "cell_type": "markdown",
   "metadata": {},
   "source": [
    "Nos três portos o maior número de passageiros embarcados eram homens."
   ]
  },
  {
   "cell_type": "markdown",
   "metadata": {},
   "source": [
    "# 3.6)Análise do perfil dos sobreviventes ao Naufrágio "
   ]
  },
  {
   "cell_type": "markdown",
   "metadata": {},
   "source": [
    "As análises a seguir referem-se somente ao cruzamento das informações dos sobreviventes. Para isso criaremos um  novo dataframe\n"
   ]
  },
  {
   "cell_type": "code",
   "execution_count": 169,
   "metadata": {},
   "outputs": [
    {
     "name": "stdout",
     "output_type": "stream",
     "text": [
      "<class 'pandas.core.frame.DataFrame'>\n",
      "Int64Index: 342 entries, 0 to 885\n",
      "Data columns (total 8 columns):\n",
      "index       342 non-null int64\n",
      "Survived    342 non-null int64\n",
      "Pclass      342 non-null int64\n",
      "Sex         342 non-null object\n",
      "Age         342 non-null float64\n",
      "Fare        342 non-null float64\n",
      "Embarked    340 non-null object\n",
      "Classe      342 non-null category\n",
      "dtypes: category(1), float64(2), int64(3), object(2)\n",
      "memory usage: 19.1+ KB\n"
     ]
    }
   ],
   "source": [
    "#Criando novo dataframe para analisarmos os dados referentes somente à sobreviventes\n",
    "df_surv = pd.DataFrame(df_tit_clean.query('Survived == 1'))\n",
    "df_surv.info() #visualizando as infos"
   ]
  },
  {
   "cell_type": "markdown",
   "metadata": {},
   "source": [
    "# 3.6.a) Qual a relação entre gênero e idade dos sobreviventes?"
   ]
  },
  {
   "cell_type": "code",
   "execution_count": 170,
   "metadata": {},
   "outputs": [
    {
     "name": "stdout",
     "output_type": "stream",
     "text": [
      "Sex\n",
      "female    28.326936\n",
      "male      27.358767\n",
      "Name: Age, dtype: float64\n"
     ]
    },
    {
     "data": {
      "image/png": "[encoded data removed]",
      "text/plain": [
       "<Figure size 432x288 with 1 Axes>"
      ]
     },
     "metadata": {},
     "output_type": "display_data"
    }
   ],
   "source": [
    "df_sex_age_surv = df_surv.groupby('Sex')['Age'].mean()\n",
    "print(df_sex_age_surv)\n",
    "\n",
    "df_sex_age_surv.plot('bar')\n",
    "plt.title('Média de Idade por gênero')\n",
    "plt.xlabel('Gênero');\n",
    "plt.ylabel('Nº passageiros');"
   ]
  },
  {
   "cell_type": "markdown",
   "metadata": {},
   "source": [
    "A idade média dos sobreviventes ao naufrágio era:\n",
    "- mulheres 28 anos\n",
    "- homens 27 anos"
   ]
  },
  {
   "cell_type": "code",
   "execution_count": 171,
   "metadata": {},
   "outputs": [
    {
     "data": {
      "text/html": [
       "<div>\n",
       "<style scoped>\n",
       "    .dataframe tbody tr th:only-of-type {\n",
       "        vertical-align: middle;\n",
       "    }\n",
       "\n",
       "    .dataframe tbody tr th {\n",
       "        vertical-align: top;\n",
       "    }\n",
       "\n",
       "    .dataframe thead th {\n",
       "        text-align: right;\n",
       "    }\n",
       "</style>\n",
       "<table border=\"1\" class=\"dataframe\">\n",
       "  <thead>\n",
       "    <tr style=\"text-align: right;\">\n",
       "      <th>Pclass</th>\n",
       "      <th>1</th>\n",
       "      <th>2</th>\n",
       "      <th>3</th>\n",
       "    </tr>\n",
       "    <tr>\n",
       "      <th>Sex</th>\n",
       "      <th></th>\n",
       "      <th></th>\n",
       "      <th></th>\n",
       "    </tr>\n",
       "  </thead>\n",
       "  <tbody>\n",
       "    <tr>\n",
       "      <th>female</th>\n",
       "      <td>8.095743</td>\n",
       "      <td>2.00</td>\n",
       "      <td>0.75</td>\n",
       "    </tr>\n",
       "    <tr>\n",
       "      <th>male</th>\n",
       "      <td>0.920000</td>\n",
       "      <td>0.67</td>\n",
       "      <td>0.42</td>\n",
       "    </tr>\n",
       "  </tbody>\n",
       "</table>\n",
       "</div>"
      ],
      "text/plain": [
       "Pclass         1     2     3\n",
       "Sex                         \n",
       "female  8.095743  2.00  0.75\n",
       "male    0.920000  0.67  0.42"
      ]
     },
     "execution_count": 171,
     "metadata": {},
     "output_type": "execute_result"
    }
   ],
   "source": [
    "#Visualizando as idades mínimas e máximas dos sobreviventes do passageiros embarcados no Titanic, separando por sexo e classe\n",
    "table_surv_min = pd.pivot_table(df_surv, values='Age', index=['Sex'],columns=['Pclass'], aggfunc=np.min)\n",
    "table_surv_min"
   ]
  },
  {
   "cell_type": "markdown",
   "metadata": {},
   "source": [
    "- O menino mais novo do navio possuía 0,42 anos e estava na terceira classe.\n",
    "- A menina mais nova também era da terceira classe e tinha 0,75 anos.\n",
    "- A menina mais nova da primeira classe tinha 8 anos de idade"
   ]
  },
  {
   "cell_type": "code",
   "execution_count": 172,
   "metadata": {},
   "outputs": [
    {
     "data": {
      "text/html": [
       "<div>\n",
       "<style scoped>\n",
       "    .dataframe tbody tr th:only-of-type {\n",
       "        vertical-align: middle;\n",
       "    }\n",
       "\n",
       "    .dataframe tbody tr th {\n",
       "        vertical-align: top;\n",
       "    }\n",
       "\n",
       "    .dataframe thead th {\n",
       "        text-align: right;\n",
       "    }\n",
       "</style>\n",
       "<table border=\"1\" class=\"dataframe\">\n",
       "  <thead>\n",
       "    <tr style=\"text-align: right;\">\n",
       "      <th>Pclass</th>\n",
       "      <th>1</th>\n",
       "      <th>2</th>\n",
       "      <th>3</th>\n",
       "    </tr>\n",
       "    <tr>\n",
       "      <th>Sex</th>\n",
       "      <th></th>\n",
       "      <th></th>\n",
       "      <th></th>\n",
       "    </tr>\n",
       "  </thead>\n",
       "  <tbody>\n",
       "    <tr>\n",
       "      <th>female</th>\n",
       "      <td>63.0</td>\n",
       "      <td>55.0</td>\n",
       "      <td>63.00000</td>\n",
       "    </tr>\n",
       "    <tr>\n",
       "      <th>male</th>\n",
       "      <td>80.0</td>\n",
       "      <td>62.0</td>\n",
       "      <td>55.07971</td>\n",
       "    </tr>\n",
       "  </tbody>\n",
       "</table>\n",
       "</div>"
      ],
      "text/plain": [
       "Pclass     1     2         3\n",
       "Sex                         \n",
       "female  63.0  55.0  63.00000\n",
       "male    80.0  62.0  55.07971"
      ]
     },
     "execution_count": 172,
     "metadata": {},
     "output_type": "execute_result"
    }
   ],
   "source": [
    "#Visualizando as idades máximas do passageiros embarcados no Titanic, separando por sexo, classe.\n",
    "table_surv_max = pd.pivot_table(df_surv, values='Age', index=['Sex'],columns=['Pclass'], aggfunc=np.max)\n",
    "table_surv_max"
   ]
  },
  {
   "cell_type": "markdown",
   "metadata": {},
   "source": [
    "- o homem mais velho do navio tinha 80 anos de idade e estava na primeira classe\n",
    "- tanto na primeira como na terceira, a passageira mulher mais velha tinha 63 anos de idade"
   ]
  },
  {
   "cell_type": "code",
   "execution_count": 173,
   "metadata": {},
   "outputs": [
    {
     "name": "stdout",
     "output_type": "stream",
     "text": [
      "min     0.42\n",
      "max    80.00\n",
      "Name: Age, dtype: float64\n"
     ]
    },
    {
     "data": {
      "image/png": "[encoded data removed]",
      "text/plain": [
       "<Figure size 432x288 with 1 Axes>"
      ]
     },
     "metadata": {},
     "output_type": "display_data"
    }
   ],
   "source": [
    "#definindo idade mínima, máxima\n",
    "df_minmax_age = df_surv.Age.agg(['min','max'])\n",
    "print(df_minmax_age)\n",
    "df_minmax_age.plot(kind = 'bar')\n",
    "plt.title('Idade Mínima e Máxima')\n",
    "plt.xlabel('Mínima e Máxima');\n",
    "plt.ylabel('Idade');"
   ]
  },
  {
   "cell_type": "markdown",
   "metadata": {},
   "source": [
    "Nas primeiras análises do banco de dados tivemos uma visão geral do perfil mínimo e máximo de idade dos passageiros. A partir dessa análise somente dos sobreviventes, podemos concluir que tanto o bebê mais novo como o senhor mais idoso sobreviveram ao naufrágio do Titanic e ambos eram do sexo masculino. O bebê pertencia à terceira classe e o senhor à primeira."
   ]
  },
  {
   "cell_type": "markdown",
   "metadata": {},
   "source": [
    "# 3.6.b) Qual a relação entre gênero e sobrevivência?\n"
   ]
  },
  {
   "cell_type": "code",
   "execution_count": 174,
   "metadata": {},
   "outputs": [
    {
     "name": "stdout",
     "output_type": "stream",
     "text": [
      "Survived  Sex   \n",
      "1         female    233\n",
      "          male      109\n",
      "Name: Sex, dtype: int64\n"
     ]
    },
    {
     "data": {
      "image/png": "[encoded data removed]",
      "text/plain": [
       "<Figure size 432x288 with 1 Axes>"
      ]
     },
     "metadata": {},
     "output_type": "display_data"
    }
   ],
   "source": [
    "# Colocamos os gênero (sex) como index, para contar a quantidade de sobreviventes e mortos por gênero.\n",
    "count_gender2 = df_surv.groupby('Survived')['Sex'].value_counts()  \n",
    "                                                            \n",
    "print(count_gender2)\n",
    "\n",
    "count_gender2.plot(kind='bar')\n",
    "plt.title('Gênero x Sobrevivência')\n",
    "plt.xlabel('Gênero');\n",
    "plt.ylabel('Nº de sobreviventes');"
   ]
  },
  {
   "cell_type": "markdown",
   "metadata": {},
   "source": [
    "Esse gráfico nos evidencia que o número de mulheres sobreviventes é maior do que o número de homens, sendo 233 mulheres e 109 homens."
   ]
  },
  {
   "cell_type": "markdown",
   "metadata": {},
   "source": [
    "# 3.6.c) Qual a relação do gênero com a classe social?\n"
   ]
  },
  {
   "cell_type": "code",
   "execution_count": 175,
   "metadata": {},
   "outputs": [
    {
     "name": "stdout",
     "output_type": "stream",
     "text": [
      "Pclass  Sex   \n",
      "1       female    91\n",
      "        male      45\n",
      "2       female    70\n",
      "        male      17\n",
      "3       female    72\n",
      "        male      47\n",
      "Name: Sex, dtype: int64\n"
     ]
    },
    {
     "data": {
      "image/png": "[encoded data removed]",
      "text/plain": [
       "<Figure size 432x288 with 1 Axes>"
      ]
     },
     "metadata": {},
     "output_type": "display_data"
    }
   ],
   "source": [
    "#visualizando sobreviventes por gênero e classe social\n",
    "gender_class = df_surv.groupby('Pclass')['Sex'].value_counts()  \n",
    "                                                            \n",
    "print(gender_class)\n",
    "\n",
    "gender_class.plot(kind='bar')\n",
    "plt.title('Sobreviventes x classe e gênero')\n",
    "plt.xlabel('Classe, gênero');\n",
    "plt.ylabel('Nº de sobreviventes');"
   ]
  },
  {
   "cell_type": "markdown",
   "metadata": {},
   "source": [
    "O gênero que possui um maior número de sobreviventes é feminino e se distribui em todas as classes. Ao se comparar com o gênero masculino, nota-se proporcionalmente os homens da primeira classe sobreviveram mais do que os das demais classes, apesar de o número absoluto de homens sobreviventes da terceira classe é um pouco maior."
   ]
  },
  {
   "cell_type": "markdown",
   "metadata": {},
   "source": [
    "# 3.7.a) Qual a relação da idade com a taxa de sobrevivência?"
   ]
  },
  {
   "cell_type": "code",
   "execution_count": 176,
   "metadata": {},
   "outputs": [
    {
     "name": "stdout",
     "output_type": "stream",
     "text": [
      "Classe\n",
      "(0.34, 16.336]       67\n",
      "(16.336, 32.252]    152\n",
      "(32.252, 48.168]     89\n",
      "(48.168, 64.084]     33\n",
      "(64.084, 80.0]        1\n",
      "Name: Age, dtype: int64\n"
     ]
    },
    {
     "data": {
      "image/png": "[encoded data removed]",
      "text/plain": [
       "<Figure size 432x288 with 1 Axes>"
      ]
     },
     "metadata": {},
     "output_type": "display_data"
    }
   ],
   "source": [
    "#Analisando o perfil de idade/taxa de sobrevivencia\n",
    "df_age_surv = df_surv.groupby('Classe')['Age'].count()\n",
    "print(df_age_surv)\n",
    "\n",
    "df_age_surv.plot(kind='barh')\n",
    "\n",
    "plt.title('Sobreviventes x classe e gênero')\n",
    "plt.xlabel('Nº de sobreviventes');\n",
    "plt.ylabel('Classe de idade');"
   ]
  },
  {
   "cell_type": "markdown",
   "metadata": {},
   "source": [
    "o perfil de idade com maior número de sobreviventes possui entre 16 e 32 anos de idade, totalizando 152 pessoas."
   ]
  },
  {
   "cell_type": "markdown",
   "metadata": {},
   "source": [
    "# 3.7.b Qual a relação da idade com classe social?"
   ]
  },
  {
   "cell_type": "code",
   "execution_count": 177,
   "metadata": {},
   "outputs": [
    {
     "name": "stdout",
     "output_type": "stream",
     "text": [
      "Pclass\n",
      "1    34.678300\n",
      "2    25.989890\n",
      "3    21.890021\n",
      "Name: Age, dtype: float64\n"
     ]
    },
    {
     "data": {
      "image/png": "[encoded data removed]",
      "text/plain": [
       "<Figure size 432x288 with 1 Axes>"
      ]
     },
     "metadata": {},
     "output_type": "display_data"
    }
   ],
   "source": [
    "#Analisando o perfil de idade média/classe\n",
    "df_age_class = df_surv.groupby('Pclass')['Age'].mean()\n",
    "print(df_age_class)\n",
    "\n",
    "df_age_class.plot(kind='barh')\n",
    "plt.title('Idade Média x Classe')\n",
    "plt.xlabel('Idade média');\n",
    "plt.ylabel('Classe de passageiros');\n"
   ]
  },
  {
   "cell_type": "markdown",
   "metadata": {},
   "source": [
    "\n",
    "A média de idades dos passageiros que sobreviveram ao naufrágio é assim distribuída:\n",
    "- 1ª classe = 34 anos de idade\n",
    "- 2ª classe = 25 anos de idade\n",
    "- 3ª classe = 21 anos de idade\n"
   ]
  },
  {
   "cell_type": "markdown",
   "metadata": {},
   "source": [
    "# 3.8.a) Porto embarcado e Sobrevivência\n",
    "\n",
    "\n"
   ]
  },
  {
   "cell_type": "code",
   "execution_count": 178,
   "metadata": {},
   "outputs": [
    {
     "name": "stdout",
     "output_type": "stream",
     "text": [
      "Survived  Embarked\n",
      "1         S           217\n",
      "          C            93\n",
      "          Q            30\n",
      "Name: Embarked, dtype: int64\n"
     ]
    },
    {
     "data": {
      "image/png": "[encoded data removed]",
      "text/plain": [
       "<Figure size 432x288 with 1 Axes>"
      ]
     },
     "metadata": {},
     "output_type": "display_data"
    }
   ],
   "source": [
    "port_emb = df_surv.groupby('Survived')['Embarked'].value_counts()  \n",
    "                                                            \n",
    "print(port_emb)\n",
    "\n",
    "port_emb.plot(kind='bar')\n",
    "\n",
    "plt.title('Sobreviventes x classe e gênero')\n",
    "plt.xlabel('Sobreviventes x Porto de Embarque');\n",
    "plt.ylabel('Nº de sobreviventes');"
   ]
  },
  {
   "cell_type": "markdown",
   "metadata": {},
   "source": [
    "Dos sobreviventes, 217 embarcaram em Southamtom, 93 em Cherbourg e 30 em Queenstown."
   ]
  },
  {
   "cell_type": "markdown",
   "metadata": {},
   "source": [
    "# 3.8.b) Porto/Classe social\n"
   ]
  },
  {
   "cell_type": "code",
   "execution_count": 179,
   "metadata": {},
   "outputs": [
    {
     "name": "stdout",
     "output_type": "stream",
     "text": [
      "Pclass  Embarked\n",
      "1       S           74\n",
      "        C           59\n",
      "        Q            1\n",
      "2       S           76\n",
      "        C            9\n",
      "        Q            2\n",
      "3       S           67\n",
      "        Q           27\n",
      "        C           25\n",
      "Name: Embarked, dtype: int64\n"
     ]
    },
    {
     "data": {
      "image/png": "[encoded data removed]",
      "text/plain": [
       "<Figure size 432x288 with 1 Axes>"
      ]
     },
     "metadata": {},
     "output_type": "display_data"
    }
   ],
   "source": [
    "port_emb2 = df_surv.groupby('Pclass')['Embarked'].value_counts()  \n",
    "                                                            \n",
    "print(port_emb2)\n",
    "\n",
    "port_emb2.plot(kind='bar')\n",
    "plt.title('Sobreviventes x classe e gênero')\n",
    "plt.xlabel('Classe x Porto de Embarque');\n",
    "plt.ylabel('Nº de sobreviventes');"
   ]
  },
  {
   "cell_type": "markdown",
   "metadata": {},
   "source": [
    "A maior frequência de pessoas que sobreviveram ao naufrágio embarcaram no porto de Southamton, independente da classe. Ao se analisar o porto de Queenstown, o maior número de soreviventes é da terceira classe e a mesma tendência acontece com o porto de Cherbourg."
   ]
  },
  {
   "cell_type": "markdown",
   "metadata": {},
   "source": [
    "# 3.8.c) Porto/gênero"
   ]
  },
  {
   "cell_type": "code",
   "execution_count": 180,
   "metadata": {},
   "outputs": [
    {
     "name": "stdout",
     "output_type": "stream",
     "text": [
      "Sex     Embarked\n",
      "female  S           140\n",
      "        C            64\n",
      "        Q            27\n",
      "male    S            77\n",
      "        C            29\n",
      "        Q             3\n",
      "Name: Embarked, dtype: int64\n"
     ]
    },
    {
     "data": {
      "image/png": "[encoded data removed]",
      "text/plain": [
       "<Figure size 432x288 with 1 Axes>"
      ]
     },
     "metadata": {},
     "output_type": "display_data"
    }
   ],
   "source": [
    "#criando gráfico para analisarmos sobrevivntes distribuidos por gênero e porto de embarque\n",
    "port_emb3 = df_surv.groupby('Sex')['Embarked'].value_counts()  \n",
    "                                                            \n",
    "print(port_emb3)\n",
    "\n",
    "port_emb3.plot(kind='bar')\n",
    "plt.title('Sobreviventes x gênero e porto de embarque')\n",
    "plt.xlabel('Gênero x Porto de Embarque');\n",
    "plt.ylabel('Sobreviventes');"
   ]
  },
  {
   "cell_type": "markdown",
   "metadata": {},
   "source": [
    "O maior número de sobreviventes do sexo feminino, sendo que 140 haviam partido do porto de Southamton, 64 de Cherbourg e 27 de Queenstown. Ao se analisar os homens, 77 embarcaram em Southamton, 29 em Cherbourg, e 3 em Queenstown."
   ]
  },
  {
   "cell_type": "markdown",
   "metadata": {},
   "source": [
    "# 3.8.d) Porto/preço"
   ]
  },
  {
   "cell_type": "code",
   "execution_count": 181,
   "metadata": {},
   "outputs": [
    {
     "name": "stdout",
     "output_type": "stream",
     "text": [
      "Pclass\n",
      "1    95.608029\n",
      "2    22.055700\n",
      "3    13.694887\n",
      "Name: Fare, dtype: float64\n"
     ]
    },
    {
     "data": {
      "image/png": "[encoded data removed]",
      "text/plain": [
       "<Figure size 432x288 with 1 Axes>"
      ]
     },
     "metadata": {},
     "output_type": "display_data"
    }
   ],
   "source": [
    "port_fare = df_surv.groupby('Pclass')['Fare'].mean() \n",
    "                                                            \n",
    "print(port_fare)\n",
    "\n",
    "port_fare.plot(kind='barh')\n",
    "plt.title('Preço da passagem')\n",
    "plt.xlabel('Preço médio da passagem');\n",
    "plt.ylabel('Classe Social');"
   ]
  },
  {
   "cell_type": "markdown",
   "metadata": {},
   "source": [
    "O preço médio da passagem  da primeira classe foi de U\\$ 95.608, na segunda U\\$ 22.055 e a terceira custou em média U\\$ 13.694 (moeda da época)"
   ]
  },
  {
   "cell_type": "code",
   "execution_count": 182,
   "metadata": {},
   "outputs": [
    {
     "name": "stdout",
     "output_type": "stream",
     "text": [
      "Pclass\n",
      "1    25.9292\n",
      "2    10.5000\n",
      "3     0.0000\n",
      "Name: Fare, dtype: float64\n",
      "Pclass\n",
      "1    512.3292\n",
      "2     65.0000\n",
      "3     56.4958\n",
      "Name: Fare, dtype: float64\n",
      "Pclass\n",
      "1    95.608029\n",
      "2    22.055700\n",
      "3    13.694887\n",
      "Name: Fare, dtype: float64\n"
     ]
    }
   ],
   "source": [
    "#definindo preços mínimo, médio e máximo por porto de embarque (somente dos sobreviventes)\n",
    "port_fare2 = df_surv.groupby('Pclass')['Fare'].min() \n",
    "port_fare3 = df_surv.groupby('Pclass')['Fare'].max()\n",
    "port_fare4 = df_surv.groupby('Pclass')['Fare'].mean()     \n",
    "print(port_fare2) \n",
    "print(port_fare3)\n",
    "print(port_fare4)\n"
   ]
  },
  {
   "cell_type": "markdown",
   "metadata": {},
   "source": [
    "- A passagem mais cara entre os sobreviventes custou U\\$512.329.\n",
    "- A passagem mais barata entre os sobreviventes foi U\\$0,00. Não se sabe a origem desse valor (sorteio, embarque ilegal?)\n",
    "- A preço mínimo da passagem da primeira classe é 54% mais barata que a passagem mais cara da terceira classe.\n"
   ]
  },
  {
   "cell_type": "code",
   "execution_count": 184,
   "metadata": {},
   "outputs": [
    {
     "name": "stdout",
     "output_type": "stream",
     "text": [
      "O valor médio das passagens, considerando todas as classes foi de: U$ 32.2042079685746\n"
     ]
    }
   ],
   "source": [
    "# definindo o valor médio das passagens através de uma função\n",
    "\n",
    "L = df_tit_edit['Fare'].values.tolist()\n",
    "\n",
    "def mean_fare(L):\n",
    "    \"\"\"\n",
    "    A função mean_fare foi criada para calcular o valor médio das passagens através de uma função.\n",
    "    input = soma de todas as tarifas de passagens da lista\n",
    "    output = total da soma dividido pelo comprimento da lista\n",
    "    \n",
    "    \"\"\"\n",
    "    \n",
    "    total = 0\n",
    "    for e in L:\n",
    "        total += e\n",
    "    return total/len(L)\n",
    "print('O valor médio das passagens, considerando todas as classes foi de: U$', mean_fare(L))\n"
   ]
  },
  {
   "cell_type": "markdown",
   "metadata": {},
   "source": [
    "# Conclusões\n",
    "\n",
    "\n"
   ]
  },
  {
   "cell_type": "markdown",
   "metadata": {},
   "source": [
    "- Dos 891 passageiros referente à amostra 342 sobreviveram e 549 morreram;\n",
    "- Do total de pessoas embarcados, 314 eram mulheres e 577 eram homens, ou seja, existiam mais homens do que mulheres a bordo do navio mais homens morreram e mais mulheres sobreviveram;\n",
    "- A classe social com maior número de passageiros é a terceira classe, representando um total de 55% de passageiros embarcados;\n",
    "- O maior percentual de passageiros mortos também é da terceira classe.O maior percentual de sobreviventes é da primeira classe.;\n",
    "- A menor idade embarcada era um bebê de aproximadamente 5 meses de idade e a maior era um senhor de 80 anos de idade\n",
    "- Considerando o sexo masculino, o passageiro de maior idade era um homem de 80 anos de idade e estava alocado na primeira classe do navio tendo embarcado em Southamton. Para o sexo feminino a idade era 69 anos, estava na primeira classe e também embarcou em Southamton;\n",
    "- O bebê de aproximadamente 5 meses de idade (0,42 anos) embarcou com sua família no porto de Cherbourg e era do sexo masculino. Poucas crianças embarcaram no porto de Queenstown, sendo que das que embarcaram nesse porto, nenhuma pertencia à primeira e segunda classe;\n",
    "- O porto de Southamton foi o responsável pelo maior número de embarque dos passageiros da base de dados. Isso acontece provavelmente em razão de ser o porto de partida do Titanic. Na sequência o porto responsável pelo segundo maior número de embarques é Cherbourg, que coincide com a primeira parada do navio e o porto com menor embarques é o de Queenstown, aonde o Titanic ancorou pela segunda e última vez;\n",
    "- Pode-se verificar que o maior número de mortes são referentes a homens que embarcaram no porto de Southamton e que o maior número de sobreviventes mulheres também embarcou naquele porto;\n",
    "- A taxa de mortalidade de homens é mais alta do que a de mulheres nos três portos de embarque. A taxa de sobrevivência de mulheres é mais alta do que a de homens nos três portos de embarque;\n",
    "- A idade média dos sobreviventes ao naufrágio era: mulheres 28 anos e homens  27 anos;\n",
    "- Nas primeiras análises do banco de dados tivemos uma visão geral do perfil mínimo e máximo de idade dos passageiros. A partir dessa análise somente dos sobreviventes, podemos concluir que tanto o bebê mais novo como o senhor mais idoso sobreviveram ao naufrágio do Titanic e ambos eram do sexo masculino. O bebê pertencia à terceira classe e o senhor à primeira;\n",
    "- O gênero que possui um maior número de sobreviventes é feminino e se distribui em todas as classes. Ao se comparar com o gênero masculino, nota-se proporcionalmente os homens da primeira classe sobreviveram mais do que os das demais classes, apesar de o número absoluto de homens sobreviventes da terceira classe é um pouco maior;\n",
    "-  o perfil de idade com maior número de sobreviventes possui entre 16 e 32 anos de idade, totalizando 152 pessoas.\n",
    "- A média de idades dos passageiros que sobreviveram ao naufrágio é assim distribuída: \n",
    "    - 1ª classe = 34 anos de idade\n",
    "    - 2ª classe = 25 anos de idade\n",
    "    - 3ª classe = 21 anos de idade\n",
    "\n",
    "- A maior frequência de pessoas que sobreviveram ao naufrágio embarcaram no porto de Southamton, independente da classe. Ao se analisar o porto de Queenstown, o maior número de sbreviventes é da terceira classe e a mesma tendência acontece com o porto de Cherbourg;\n",
    "\n",
    "- O maior número de sobreviventes do sexo feminino, sendo que 140 haviam partido do porto de Southamton, 64 de Cherbourg e 27 de Queenstown. Ao se analisar os homens, 77 embarcaram em Southamton, 29 em Cherbourg, e 3 em Queenstown;\n",
    "\n",
    "- O preço médio da passagem da primeira classe foi de U\\$ 95.608, na segunda U\\$ 22.055 e a terceira custou em média U\\$ 13.694 (moeda da época);\n",
    "\n",
    "- A passagem mais cara entre os sobreviventes custou U\\$512.329. A passagem mais barata entre os sobreviventes foi U\\$0,00. Não se sabe a origem desse valor (sorteio, embarque ilegal?). A preço mínimo da passagem da primeira classe é 54% mais barata que a passagem mais cara da terceira classe.\n",
    "\n",
    "- O valor médio geral das passagens, considerando todas as classes foi de: U$ 32.2042079685746  \n"
   ]
  },
  {
   "cell_type": "markdown",
   "metadata": {},
   "source": [
    "# Limitações\n",
    "\n",
    "Observa-se que a coluna \"Age\", \"Cabin\" e \"Embarked\" possuem valores faltantes.  \n",
    "\n",
    "Ações tomadas:  \n",
    "\n",
    "a) A avaliação do perfil de idade serão adotadas as seguintes medidas:\n",
    "- Preencher os valores NANs através de médias de idade. Essa análise não será considerada pois cria uma tendência central na distribuição dos dados, não representando fielmente a realidade visto substituir aproximadamente 20% do total da base de dados com valores médios.\n",
    "- Para corrigir as idades, iremos considerar 5 classes de idade e distribuir suas frequências. Os valores NANs faltantes serão distribuídos proporcionalmente e preenchidos com as médias das idades por classe criada. Dessa forma conseguimos manter o padrão da distribuição de frequência mais próximo à realidade.  \n",
    "\n",
    "b) Para a coluna \"Embarked\", iremos ignorar os valores faltantes, pois são apenas 2 observações, não influenciando significativamente a análise.\n",
    "\n",
    "c) As colunas 'PasssengerId', 'Name','SibSp', 'Parch', 'Ticket','Cabin' serão descartadas pois não serão utilizadas na análise proposta.  \n"
   ]
  },
  {
   "cell_type": "markdown",
   "metadata": {},
   "source": [
    "# Referências\n",
    "\n",
    "\n"
   ]
  },
  {
   "cell_type": "markdown",
   "metadata": {},
   "source": [
    "[Escala de cores](https://matplotlib.org/examples/color/named_colors.html)  \n",
    "[Pivot Table](https://jakevdp.github.io/PythonDataScienceHandbook/03.09-pivot-tables.html)  \n",
    "[Ordenar DataFrame](https://pt.stackoverflow.com/questions/230018/ordenar-python-data-frame-pandas-em-dois-n%C3%ADveis)  \n",
    "[Biblioteca Pandas](https://pandas.pydata.org/pandas-docs/stable/generated/pandas.DataFrame.fillna.html)  \n",
    "[Biblioteca Matplot](https://matplotlib.org/)  \n",
    "[Kaggle](https://www.kaggle.com/)  \n",
    "[SuperInteressante](https://super.abril.com.br/mundo-estranho/infografico-naufragio-do-titanic/)  "
   ]
  }
 ],
 "metadata": {
  "kernelspec": {
   "display_name": "Python 3",
   "language": "python",
   "name": "python3"
  },
  "language_info": {
   "codemirror_mode": {
    "name": "ipython",
    "version": 3
   },
   "file_extension": ".py",
   "mimetype": "text/x-python",
   "name": "python",
   "nbconvert_exporter": "python",
   "pygments_lexer": "ipython3",
   "version": "3.6.5"
  }
 },
 "nbformat": 4,
 "nbformat_minor": 2
}
